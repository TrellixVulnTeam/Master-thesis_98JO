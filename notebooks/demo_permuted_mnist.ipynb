{
 "cells": [
  {
   "cell_type": "code",
   "execution_count": 1,
   "metadata": {
    "collapsed": true
   },
   "outputs": [],
   "source": [
    "%load_ext autoreload"
   ]
  },
  {
   "cell_type": "code",
   "execution_count": 2,
   "metadata": {
    "collapsed": true
   },
   "outputs": [],
   "source": [
    "%autoreload 2"
   ]
  },
  {
   "cell_type": "markdown",
   "metadata": {},
   "source": [
    "## General configuration"
   ]
  },
  {
   "cell_type": "code",
   "execution_count": 3,
   "metadata": {
    "collapsed": true
   },
   "outputs": [],
   "source": [
    "import torch"
   ]
  },
  {
   "cell_type": "code",
   "execution_count": 4,
   "metadata": {},
   "outputs": [
    {
     "name": "stdout",
     "output_type": "stream",
     "text": [
      "True\n",
      "2\n",
      "Tesla K20c\n"
     ]
    },
    {
     "name": "stderr",
     "output_type": "stream",
     "text": [
      "/home/ispamm/anaconda3/lib/python3.6/site-packages/torch/cuda/__init__.py:117: UserWarning: \n",
      "    Found GPU1 Quadro K4000 which is of cuda capability 3.0.\n",
      "    PyTorch no longer supports this GPU because it is too old.\n",
      "    \n",
      "  warnings.warn(old_gpu_warn % (d, name, major, capability[1]))\n"
     ]
    }
   ],
   "source": [
    "# Print some information on the GPU\n",
    "print(torch.cuda.is_available())\n",
    "print(torch.cuda.device_count())\n",
    "print(torch.cuda.get_device_name(torch.cuda.current_device()))"
   ]
  },
  {
   "cell_type": "code",
   "execution_count": 127,
   "metadata": {},
   "outputs": [],
   "source": [
    "# Load parameters\n",
    "import configs.config_mnist as config\n",
    "\n",
    "import importlib\n",
    "importlib.reload(config)\n",
    "\n",
    "config = config.config\n",
    "chosen_importance = config['ewc']['importance']"
   ]
  },
  {
   "cell_type": "code",
   "execution_count": 128,
   "metadata": {},
   "outputs": [
    {
     "data": {
      "text/plain": [
       "{'ewc': {'importance': 1000, 'sample_size': 250},\n",
       " 'opt': {'batch_size': 64,\n",
       "  'epochs': 10,\n",
       "  'iters': 1,\n",
       "  'l1_reg': 0.0001,\n",
       "  'lr': 0.001},\n",
       " 'other': {'device': device(type='cuda'),\n",
       "  'enable_tensorboard': True,\n",
       "  'model_name': '',\n",
       "  'run_name': 'mnist'},\n",
       " 'task': {'is_conv': False, 'num_tasks': 3}}"
      ]
     },
     "execution_count": 128,
     "metadata": {},
     "output_type": "execute_result"
    }
   ],
   "source": [
    "config"
   ]
  },
  {
   "cell_type": "markdown",
   "metadata": {},
   "source": [
    "## Load data"
   ]
  },
  {
   "cell_type": "code",
   "execution_count": 97,
   "metadata": {},
   "outputs": [
    {
     "data": {},
     "metadata": {},
     "output_type": "display_data"
    },
    {
     "name": "stdout",
     "output_type": "stream",
     "text": [
      "\n",
      "\n"
     ]
    }
   ],
   "source": [
    "# Load num_tasks datasets\n",
    "\n",
    "from data import CustomDataLoader, PermutedMNIST\n",
    "from tqdm import tqdm_notebook as tqdm\n",
    "import random\n",
    "\n",
    "train_loader = {}\n",
    "test_loader = {}\n",
    "\n",
    "idx = list(range(28 * 28))\n",
    "\n",
    "for i in tqdm(range(config['task']['num_tasks']), 'Datasets loaded'):\n",
    "  train_loader[i] = CustomDataLoader(PermutedMNIST(train=True, permute_idx=idx),\n",
    "                                                      batch_size=config['opt']['batch_size'])\n",
    "  test_loader[i] = CustomDataLoader(PermutedMNIST(train=False, permute_idx=idx),\n",
    "                                                     batch_size=config['opt']['batch_size'])\n",
    "  random.shuffle(idx)"
   ]
  },
  {
   "cell_type": "markdown",
   "metadata": {},
   "source": [
    "## Define models"
   ]
  },
  {
   "cell_type": "code",
   "execution_count": 99,
   "metadata": {
    "collapsed": true
   },
   "outputs": [],
   "source": [
    "hidden_size = 250"
   ]
  },
  {
   "cell_type": "code",
   "execution_count": 100,
   "metadata": {
    "collapsed": true
   },
   "outputs": [],
   "source": [
    "from torch import nn\n",
    "import torch.nn.functional as F\n",
    "\n",
    "class MLP(nn.Module):\n",
    "    def __init__(self, hidden_size=400):\n",
    "        super(MLP, self).__init__()\n",
    "        self.fc1 = nn.Linear(28 * 28, hidden_size)\n",
    "        self.fc2 = nn.Linear(hidden_size, hidden_size)\n",
    "        self.fc3 = nn.Linear(hidden_size, hidden_size)\n",
    "        self.fc4 = nn.Linear(hidden_size, 10)\n",
    "\n",
    "    def forward(self, input):\n",
    "        x = F.relu(self.fc1(input))\n",
    "        x = F.relu(self.fc2(x))\n",
    "        x = F.relu(self.fc3(x))\n",
    "        x = self.fc4(x)\n",
    "        return x\n",
    "      \n",
    "    def set_task(self, t):\n",
    "      self.current_task = t"
   ]
  },
  {
   "cell_type": "code",
   "execution_count": 101,
   "metadata": {
    "collapsed": true
   },
   "outputs": [],
   "source": [
    "from models import KAF, elu\n",
    "\n",
    "class KAFMLP(nn.Module):\n",
    "    def __init__(self, hidden_size=400, kaf_init_fcn=elu):\n",
    "        super(KAFMLP, self).__init__()\n",
    "        self.fc1 = nn.Linear(28 * 28, hidden_size)\n",
    "        self.fc2 = nn.Linear(hidden_size, hidden_size)\n",
    "        self.fc3 = nn.Linear(hidden_size, hidden_size)\n",
    "        self.fc4 = nn.Linear(hidden_size, 10)\n",
    "        self.kaf1 = KAF(hidden_size, init_fcn=kaf_init_fcn, D=20)\n",
    "        self.kaf2 = KAF(hidden_size, init_fcn=kaf_init_fcn, D=20)\n",
    "        self.kaf3 = KAF(hidden_size, init_fcn=kaf_init_fcn, D=20)\n",
    "\n",
    "    def forward(self, input):\n",
    "        x = self.kaf1(self.fc1(input))\n",
    "        x = self.kaf2(self.fc2(x))\n",
    "        x = self.kaf3(self.fc3(x))\n",
    "        x = self.fc4(x)\n",
    "        return x\n",
    "      \n",
    "    def set_task(self, t):\n",
    "      self.current_task = t"
   ]
  },
  {
   "cell_type": "code",
   "execution_count": 129,
   "metadata": {},
   "outputs": [],
   "source": [
    "net = MLP(hidden_size).to(config['other']['device'])"
   ]
  },
  {
   "cell_type": "code",
   "execution_count": 130,
   "metadata": {
    "collapsed": true
   },
   "outputs": [],
   "source": [
    "kafnet = KAFMLP(int(hidden_size * 0.70)).to(config['other']['device'])"
   ]
  },
  {
   "cell_type": "code",
   "execution_count": 131,
   "metadata": {},
   "outputs": [
    {
     "name": "stdout",
     "output_type": "stream",
     "text": [
      "Numero di parametri rete classica:  324260\n",
      "Numero di parametri KAFNET:  211235\n"
     ]
    }
   ],
   "source": [
    "print('Numero di parametri rete classica: ', sum([torch.numel(p) for p in net.parameters()]))\n",
    "print('Numero di parametri KAFNET: ', sum([torch.numel(p) for p in kafnet.parameters()]))"
   ]
  },
  {
   "cell_type": "markdown",
   "metadata": {},
   "source": [
    "## Main experiment"
   ]
  },
  {
   "cell_type": "code",
   "execution_count": 132,
   "metadata": {
    "collapsed": true
   },
   "outputs": [],
   "source": [
    "torch.save(net.state_dict(), 'models/net.pt')\n",
    "torch.save(kafnet.state_dict(), 'models/kafnet.pt')"
   ]
  },
  {
   "cell_type": "code",
   "execution_count": 133,
   "metadata": {
    "scrolled": true
   },
   "outputs": [
    {
     "name": "stdout",
     "output_type": "stream",
     "text": [
      "Training standard network with no penalty\n"
     ]
    },
    {
     "data": {},
     "metadata": {},
     "output_type": "display_data"
    },
    {
     "name": "stdout",
     "output_type": "stream",
     "text": [
      "*** ITER  1  of  1  ***\n"
     ]
    },
    {
     "data": {},
     "metadata": {},
     "output_type": "display_data"
    },
    {
     "name": "stdout",
     "output_type": "stream",
     "text": [
      "Training for task 1 of 3...\n"
     ]
    },
    {
     "data": {},
     "metadata": {},
     "output_type": "display_data"
    },
    {
     "name": "stdout",
     "output_type": "stream",
     "text": [
      "\n",
      "Training for task 2 of 3...\n"
     ]
    },
    {
     "data": {},
     "metadata": {},
     "output_type": "display_data"
    },
    {
     "name": "stdout",
     "output_type": "stream",
     "text": [
      "Training for task 3 of 3...\n"
     ]
    },
    {
     "data": {},
     "metadata": {},
     "output_type": "display_data"
    },
    {
     "name": "stdout",
     "output_type": "stream",
     "text": [
      "\n"
     ]
    }
   ],
   "source": [
    "print('Training standard network with no penalty')\n",
    "from train import repeat_train_n_times\n",
    "config['ewc']['importance'] = 0.0 # Temporarily disable importance\n",
    "config['other']['model_name'] = 'NN' # Select a name for the model saving\n",
    "loss, loss_full, acc = repeat_train_n_times(net, train_loader, test_loader, \n",
    "                                            net_init_path='models/net.pt', \n",
    "                                            config=config)"
   ]
  },
  {
   "cell_type": "code",
   "execution_count": 134,
   "metadata": {},
   "outputs": [
    {
     "name": "stdout",
     "output_type": "stream",
     "text": [
      "Training standard network with EWC penalty\n"
     ]
    },
    {
     "data": {},
     "metadata": {},
     "output_type": "display_data"
    },
    {
     "name": "stdout",
     "output_type": "stream",
     "text": [
      "*** ITER  1  of  1  ***\n"
     ]
    },
    {
     "data": {},
     "metadata": {},
     "output_type": "display_data"
    },
    {
     "name": "stdout",
     "output_type": "stream",
     "text": [
      "Training for task 1 of 3...\n"
     ]
    },
    {
     "data": {},
     "metadata": {},
     "output_type": "display_data"
    },
    {
     "name": "stdout",
     "output_type": "stream",
     "text": [
      "Training for task 2 of 3...\n"
     ]
    },
    {
     "data": {},
     "metadata": {},
     "output_type": "display_data"
    },
    {
     "name": "stdout",
     "output_type": "stream",
     "text": [
      "Training for task 3 of 3...\n"
     ]
    },
    {
     "data": {},
     "metadata": {},
     "output_type": "display_data"
    },
    {
     "name": "stdout",
     "output_type": "stream",
     "text": [
      "\n"
     ]
    }
   ],
   "source": [
    "print('Training standard network with EWC penalty')\n",
    "config['ewc']['importance'] = chosen_importance # Re-enable importance\n",
    "config['other']['model_name'] = 'EWC-NN' # Select a name for the model saving\n",
    "loss_ewc, loss_full_ewc, acc_ewc = repeat_train_n_times(net, train_loader, test_loader,\\\n",
    "                                            net_init_path='models/net.pt', \n",
    "                                            config=config)"
   ]
  },
  {
   "cell_type": "code",
   "execution_count": 135,
   "metadata": {},
   "outputs": [
    {
     "name": "stdout",
     "output_type": "stream",
     "text": [
      "Training KAF network with no penalty\n"
     ]
    },
    {
     "data": {},
     "metadata": {},
     "output_type": "display_data"
    },
    {
     "name": "stdout",
     "output_type": "stream",
     "text": [
      "*** ITER  1  of  1  ***\n"
     ]
    },
    {
     "data": {},
     "metadata": {},
     "output_type": "display_data"
    },
    {
     "name": "stdout",
     "output_type": "stream",
     "text": [
      "Training for task 1 of 3...\n"
     ]
    },
    {
     "data": {},
     "metadata": {},
     "output_type": "display_data"
    },
    {
     "name": "stdout",
     "output_type": "stream",
     "text": [
      "Training for task 2 of 3...\n"
     ]
    },
    {
     "data": {},
     "metadata": {},
     "output_type": "display_data"
    },
    {
     "name": "stdout",
     "output_type": "stream",
     "text": [
      "Training for task 3 of 3...\n"
     ]
    },
    {
     "data": {},
     "metadata": {},
     "output_type": "display_data"
    },
    {
     "name": "stdout",
     "output_type": "stream",
     "text": [
      "\n"
     ]
    }
   ],
   "source": [
    "print('Training KAF network with no penalty')\n",
    "config['ewc']['importance'] = 0.0 # Temporarily disable importance\n",
    "config['other']['model_name'] = 'KAF' # Select a name for the model saving\n",
    "loss_kaf, loss_full_kaf, acc_kaf = repeat_train_n_times(kafnet, train_loader, test_loader, \\\n",
    "                                            net_init_path='models/kafnet.pt', \n",
    "                                            config=config)"
   ]
  },
  {
   "cell_type": "code",
   "execution_count": null,
   "metadata": {},
   "outputs": [
    {
     "name": "stdout",
     "output_type": "stream",
     "text": [
      "Training KAF network with EWC penalty\n"
     ]
    },
    {
     "data": {},
     "metadata": {},
     "output_type": "display_data"
    },
    {
     "name": "stdout",
     "output_type": "stream",
     "text": [
      "*** ITER  1  of  1  ***\n"
     ]
    },
    {
     "data": {},
     "metadata": {},
     "output_type": "display_data"
    },
    {
     "name": "stdout",
     "output_type": "stream",
     "text": [
      "Training for task 1 of 3...\n"
     ]
    },
    {
     "data": {},
     "metadata": {},
     "output_type": "display_data"
    },
    {
     "name": "stdout",
     "output_type": "stream",
     "text": [
      "Training for task 2 of 3...\n"
     ]
    },
    {
     "data": {},
     "metadata": {},
     "output_type": "display_data"
    },
    {
     "name": "stdout",
     "output_type": "stream",
     "text": [
      "Training for task 3 of 3...\n"
     ]
    },
    {
     "data": {},
     "metadata": {},
     "output_type": "display_data"
    },
    {
     "name": "stdout",
     "output_type": "stream",
     "text": [
      "\n"
     ]
    }
   ],
   "source": [
    "print('Training KAF network with EWC penalty')\n",
    "config['ewc']['importance'] = chosen_importance # Re-enable importance\n",
    "config['other']['model_name'] = 'EWC-KAF' # Select a name for the model saving\n",
    "loss_kaf_ewc, loss_full_kaf_ewc, acc_kaf_ewc = repeat_train_n_times(kafnet, train_loader, test_loader,\n",
    "                                            net_init_path='models/kafnet.pt', \n",
    "                                            config=config)"
   ]
  },
  {
   "cell_type": "markdown",
   "metadata": {},
   "source": [
    "## Some plots"
   ]
  },
  {
   "cell_type": "code",
   "execution_count": 137,
   "metadata": {
    "collapsed": true
   },
   "outputs": [],
   "source": [
    "%matplotlib inline"
   ]
  },
  {
   "cell_type": "code",
   "execution_count": 138,
   "metadata": {},
   "outputs": [
    {
     "data": {
      "image/png": "[encoded data removed]",
      "text/plain": [
       "<matplotlib.figure.Figure at 0x7f19dc729a90>"
      ]
     },
     "metadata": {},
     "output_type": "display_data"
    }
   ],
   "source": [
    "import matplotlib.pyplot as plt\n",
    "\n",
    "num_tasks = config['task']['num_tasks']\n",
    "epochs = config['opt']['epochs']\n",
    "\n",
    "# Loss plots\n",
    "f, ax = plt.subplots(config['task']['num_tasks'], 1, sharex=True, figsize=(12, 12))\n",
    "\n",
    "# Plot loss for standard network / standard training\n",
    "for t, v in loss.items():\n",
    "  ax[t].plot(list(range(t * epochs, (t + 1) * epochs)), v, '--', label='Standard')\n",
    "\n",
    "# Plot loss for standard network / EWC training\n",
    "for t, v in loss_ewc.items():\n",
    "  ax[t].plot(list(range(t * epochs, (t + 1) * epochs)), v, label='EWC')\n",
    "  \n",
    "# Plot loss for KAF network / standard training\n",
    "for t, v in loss_kaf.items():\n",
    "  ax[t].plot(list(range(t * epochs, (t + 1) * epochs)), v, label='KAF')\n",
    "  \n",
    "# Plot loss for KAF network / EWC training\n",
    "for t, v in loss_kaf_ewc.items():\n",
    "  ax[t].plot(list(range(t * epochs, (t + 1) * epochs)), v, label='KAF-EWC')\n",
    "  \n",
    "\n",
    "# Add legend\n",
    "handles, labels = ax[-1].get_legend_handles_labels()\n",
    "f.legend(handles, labels, loc='upper right')\n",
    "\n",
    "f.subplots_adjust(hspace=0)\n",
    "plt.show()"
   ]
  },
  {
   "cell_type": "code",
   "execution_count": 139,
   "metadata": {},
   "outputs": [
    {
     "data": {
      "image/png": "[encoded data removed]",
      "text/plain": [
       "<matplotlib.figure.Figure at 0x7f19dc6d10b8>"
      ]
     },
     "metadata": {},
     "output_type": "display_data"
    }
   ],
   "source": [
    "# Accuracy plots\n",
    "f, ax = plt.subplots(num_tasks, 1, sharex=True, figsize=(12, 12))\n",
    "\n",
    "# Plot accuracy for standard network / standard training\n",
    "for t, v in acc.items():\n",
    "  x_axis = list(range(t * epochs, num_tasks * epochs))\n",
    "  ax[t].plot(x_axis, v, '--', label='Standard')\n",
    "  \n",
    "# Plot accuracy for standard network / EWC training\n",
    "for t, v in acc_ewc.items():\n",
    "  x_axis = list(range(t * epochs, num_tasks * epochs))\n",
    "  ax[t].plot(x_axis, v, label='EWC')\n",
    "  \n",
    "# Plot accuracy for KAF network / standard training\n",
    "for t, v in acc_kaf.items():\n",
    "  x_axis = list(range(t * epochs, num_tasks * epochs))\n",
    "  ax[t].plot(x_axis, v, label='KAF')\n",
    "  \n",
    "# Plot accuracy for KAF network / EWC training\n",
    "for t, v in acc_kaf_ewc.items():\n",
    "  x_axis = list(range(t * epochs, num_tasks * epochs))\n",
    "  ax[t].plot(x_axis, v, label='KAF-EWC')\n",
    "  \n",
    " \n",
    "# Add legend\n",
    "handles, labels = ax[-1].get_legend_handles_labels()\n",
    "f.legend(handles, labels, loc='upper right')\n",
    "\n",
    "f.subplots_adjust(hspace=0)\n",
    "plt.show()"
   ]
  },
  {
   "cell_type": "code",
   "execution_count": null,
   "metadata": {
    "collapsed": true
   },
   "outputs": [],
   "source": []
  }
 ],
 "metadata": {
  "kernelspec": {
   "display_name": "Python 3",
   "language": "python",
   "name": "python3"
  },
  "language_info": {
   "codemirror_mode": {
    "name": "ipython",
    "version": 3
   },
   "file_extension": ".py",
   "mimetype": "text/x-python",
   "name": "python",
   "nbconvert_exporter": "python",
   "pygments_lexer": "ipython3",
   "version": "3.6.7"
  }
 },
 "nbformat": 4,
 "nbformat_minor": 2
}
