{
 "cells": [
  {
   "cell_type": "code",
   "execution_count": null,
   "metadata": {},
   "outputs": [],
   "source": [
    "import sys\n",
    "from datasetsUtils import CIFAR, taskManager\n",
    "\n",
    "sys.path.insert(0, '..')"
   ]
  },
  {
   "cell_type": "code",
   "execution_count": 2,
   "metadata": {},
   "outputs": [
    {
     "data": {
      "text/plain": [
       "'/media/jary/DATA/Uni/tesi/codice/notebooks'"
      ]
     },
     "execution_count": 2,
     "metadata": {},
     "output_type": "execute_result"
    }
   ],
   "source": [
    "cwd"
   ]
  },
  {
   "cell_type": "code",
   "execution_count": 3,
   "metadata": {},
   "outputs": [
    {
     "data": {
      "text/plain": [
       "['..',\n",
       " '/home/jary/miniconda3/envs/tesi/lib/python36.zip',\n",
       " '/home/jary/miniconda3/envs/tesi/lib/python3.6',\n",
       " '/home/jary/miniconda3/envs/tesi/lib/python3.6/lib-dynload',\n",
       " '',\n",
       " '/home/jary/miniconda3/envs/tesi/lib/python3.6/site-packages',\n",
       " '/home/jary/miniconda3/envs/tesi/lib/python3.6/site-packages/IPython/extensions',\n",
       " '/home/jary/.ipython']"
      ]
     },
     "execution_count": 3,
     "metadata": {},
     "output_type": "execute_result"
    }
   ],
   "source": [
    "\n",
    "\n",
    "c = CIFAR.Cifar10('../../data/cifar10', taskManager.IncrementalClassificationTask(), download=True)"
   ]
  }
 ],
 "metadata": {
  "kernelspec": {
   "display_name": "Python 3",
   "language": "python",
   "name": "python3"
  },
  "language_info": {
   "codemirror_mode": {
    "name": "ipython",
    "version": 3
   },
   "file_extension": ".py",
   "mimetype": "text/x-python",
   "name": "python",
   "nbconvert_exporter": "python",
   "pygments_lexer": "ipython3",
   "version": "3.6.7"
  }
 },
 "nbformat": 4,
 "nbformat_minor": 2
}
