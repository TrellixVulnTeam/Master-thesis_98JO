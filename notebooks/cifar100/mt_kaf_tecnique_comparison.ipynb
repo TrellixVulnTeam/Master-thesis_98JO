{
 "cells": [
  {
   "cell_type": "code",
   "execution_count": 1,
   "metadata": {},
   "outputs": [],
   "source": [
    "import sys\n",
    "import os\n",
    "module_path = os.path.abspath('/media/jary/DATA/Uni/tesi/codice')\n",
    "\n",
    "if module_path not in sys.path:\n",
    "    sys.path.append(module_path)"
   ]
  },
  {
   "cell_type": "code",
   "execution_count": 2,
   "metadata": {},
   "outputs": [],
   "source": [
    "from networks import NoKafnet, Kafnet\n",
    "import utils.datasetsUtils.CIFAR as CIFAR\n",
    "from utils.datasetsUtils.taskManager import IncrementalTaskClassification, NoTask\n",
    "import configs.configClasses as configClasses\n",
    "from torchvision.transforms import transforms\n",
    "import torch\n",
    "import networks.continual_learning as continual_learning\n",
    "import networks.continual_learning_beta as continual_learning_beta\n",
    "\n",
    "from Trainer import Trainer\n",
    "import matplotlib.pyplot as plt\n",
    "from collections import defaultdict\n",
    "from copy import deepcopy\n",
    "import numpy as np\n",
    "from mpl_toolkits.mplot3d import Axes3D\n",
    "from sklearn.decomposition import PCA"
   ]
  },
  {
   "cell_type": "code",
   "execution_count": 3,
   "metadata": {},
   "outputs": [],
   "source": [
    "torch.manual_seed(0)\n",
    "torch.backends.cudnn.deterministic = True\n",
    "torch.backends.cudnn.benchmark = False\n",
    "np.random.seed(0)"
   ]
  },
  {
   "cell_type": "code",
   "execution_count": 4,
   "metadata": {
    "scrolled": true
   },
   "outputs": [
    {
     "name": "stdout",
     "output_type": "stream",
     "text": [
      "True\n",
      "1\n",
      "GeForce GTX 1050\n"
     ]
    }
   ],
   "source": [
    "print(torch.cuda.is_available())\n",
    "print(torch.cuda.device_count())\n",
    "print(torch.cuda.get_device_name(torch.cuda.current_device()))"
   ]
  },
  {
   "cell_type": "code",
   "execution_count": 5,
   "metadata": {},
   "outputs": [
    {
     "name": "stdout",
     "output_type": "stream",
     "text": [
      "CONFIG PARAMETERS\n",
      "BATCH_SIZE: 32\n",
      "CL_PAR: {'sample_size': 250, 'penalty_importance': 1000.0}\n",
      "CL_TEC: <class 'networks.continual_learning.EWC'>\n",
      "DEVICE: cuda\n",
      "EPOCHS: 20\n",
      "IS_CONVOLUTIONAL: True\n",
      "IS_INCREMENTAL: True\n",
      "ITERS: 1\n",
      "L1_REG: 0\n",
      "LOSS: cross_entropy\n",
      "LR: 0.001\n",
      "MODEL_NAME: \n",
      "NEXT_TASK_EPOCHS: None\n",
      "NEXT_TASK_LR: None\n",
      "OPTIMIZER: Adam\n",
      "RUN_NAME: default\n",
      "SAVE_PATH: ./models/mt_kaf_tecnique_comparison\n",
      "USE_CL: False\n",
      "USE_TENSORBOARD: True\n",
      "\n"
     ]
    }
   ],
   "source": [
    "config = configClasses.DefaultConfig()\n",
    "config.L1_REG = 0\n",
    "config.EPOCHS = 20\n",
    "config.SAVE_PATH = './models/mt_kaf_tecnique_comparison'\n",
    "config.IS_CONVOLUTIONAL = True\n",
    "config.USE_CL = False\n",
    "config.MODEL_NAME = ''\n",
    "config.NEXT_TASK_EPOCHS = None\n",
    "config.NEXT_TASK_LR = None\n",
    "config.BATCH_SIZE = 32\n",
    "config.OPTIMIZER = 'Adam'\n",
    "# config.DEVICE = 'cpu'\n",
    "config.IS_INCREMENTAL = True\n",
    "\n",
    "print(config)"
   ]
  },
  {
   "cell_type": "code",
   "execution_count": 6,
   "metadata": {},
   "outputs": [
    {
     "name": "stdout",
     "output_type": "stream",
     "text": [
      "../data/cifar100/download\n"
     ]
    }
   ],
   "source": [
    "transform = transforms.Compose(\n",
    "    [transforms.ToTensor(),\n",
    "     transforms.Normalize((0.4914, 0.4822, 0.4465), (0.2023, 0.1994, 0.2010))]\n",
    ")\n",
    "\n",
    "dataset = CIFAR.Cifar100('../data/cifar100', download=True, transform=transform, \n",
    "                        task_manager=IncrementalTaskClassification(10),\n",
    "                        force_download=False, train_split=0.8, target_transform=None)\n",
    "dataset.load_dataset()"
   ]
  },
  {
   "cell_type": "code",
   "execution_count": 7,
   "metadata": {},
   "outputs": [],
   "source": [
    "net = Kafnet.synCNN(100, kernel='softplus', D=15, boundary=3, trainable_dict=False,\n",
    "                    topology=[int(32*0.8),  int(64*0.8)])"
   ]
  },
  {
   "cell_type": "code",
   "execution_count": 8,
   "metadata": {},
   "outputs": [],
   "source": [
    "results = []\n",
    "experiments = [('no_cont_learning', None),\n",
    "               ('ewc', continual_learning.OnlineEWC),\n",
    "               ('gem', continual_learning.GEM),\n",
    "               ('embedding', continual_learning_beta.embedding)]"
   ]
  },
  {
   "cell_type": "code",
   "execution_count": 9,
   "metadata": {
    "scrolled": true
   },
   "outputs": [
    {
     "name": "stdout",
     "output_type": "stream",
     "text": [
      "no_cont_learning\n",
      "0 [0.36333333333333334]\n",
      "0 [0.36333333333333334, 0.4525]\n",
      "0 [0.36333333333333334, 0.4525, 0.5158333333333334]\n",
      "0 [0.36333333333333334, 0.4525, 0.5158333333333334, 0.5525]\n",
      "0 [0.36333333333333334, 0.4525, 0.5158333333333334, 0.5525, 0.5733333333333334]\n",
      "0 [0.36333333333333334, 0.4525, 0.5158333333333334, 0.5525, 0.5733333333333334, 0.6058333333333333]\n",
      "0 [0.36333333333333334, 0.4525, 0.5158333333333334, 0.5525, 0.5733333333333334, 0.6058333333333333, 0.6066666666666667]\n",
      "0 [0.36333333333333334, 0.4525, 0.5158333333333334, 0.5525, 0.5733333333333334, 0.6058333333333333, 0.6066666666666667, 0.6283333333333333]\n",
      "0 [0.36333333333333334, 0.4525, 0.5158333333333334, 0.5525, 0.5733333333333334, 0.6058333333333333, 0.6066666666666667, 0.6283333333333333, 0.6275]\n",
      "0 [0.36333333333333334, 0.4525, 0.5158333333333334, 0.5525, 0.5733333333333334, 0.6058333333333333, 0.6066666666666667, 0.6283333333333333, 0.6275, 0.6541666666666667]\n",
      "0 [0.36333333333333334, 0.4525, 0.5158333333333334, 0.5525, 0.5733333333333334, 0.6058333333333333, 0.6066666666666667, 0.6283333333333333, 0.6275, 0.6541666666666667, 0.6366666666666667]\n",
      "0 [0.36333333333333334, 0.4525, 0.5158333333333334, 0.5525, 0.5733333333333334, 0.6058333333333333, 0.6066666666666667, 0.6283333333333333, 0.6275, 0.6541666666666667, 0.6366666666666667, 0.6775]\n",
      "0 [0.36333333333333334, 0.4525, 0.5158333333333334, 0.5525, 0.5733333333333334, 0.6058333333333333, 0.6066666666666667, 0.6283333333333333, 0.6275, 0.6541666666666667, 0.6366666666666667, 0.6775, 0.665]\n",
      "0 [0.36333333333333334, 0.4525, 0.5158333333333334, 0.5525, 0.5733333333333334, 0.6058333333333333, 0.6066666666666667, 0.6283333333333333, 0.6275, 0.6541666666666667, 0.6366666666666667, 0.6775, 0.665, 0.6808333333333333]\n",
      "0 [0.36333333333333334, 0.4525, 0.5158333333333334, 0.5525, 0.5733333333333334, 0.6058333333333333, 0.6066666666666667, 0.6283333333333333, 0.6275, 0.6541666666666667, 0.6366666666666667, 0.6775, 0.665, 0.6808333333333333, 0.6633333333333333]\n",
      "0 [0.36333333333333334, 0.4525, 0.5158333333333334, 0.5525, 0.5733333333333334, 0.6058333333333333, 0.6066666666666667, 0.6283333333333333, 0.6275, 0.6541666666666667, 0.6366666666666667, 0.6775, 0.665, 0.6808333333333333, 0.6633333333333333, 0.6775]\n",
      "0 [0.36333333333333334, 0.4525, 0.5158333333333334, 0.5525, 0.5733333333333334, 0.6058333333333333, 0.6066666666666667, 0.6283333333333333, 0.6275, 0.6541666666666667, 0.6366666666666667, 0.6775, 0.665, 0.6808333333333333, 0.6633333333333333, 0.6775, 0.665]\n",
      "0 [0.36333333333333334, 0.4525, 0.5158333333333334, 0.5525, 0.5733333333333334, 0.6058333333333333, 0.6066666666666667, 0.6283333333333333, 0.6275, 0.6541666666666667, 0.6366666666666667, 0.6775, 0.665, 0.6808333333333333, 0.6633333333333333, 0.6775, 0.665, 0.6616666666666666]\n",
      "0 [0.36333333333333334, 0.4525, 0.5158333333333334, 0.5525, 0.5733333333333334, 0.6058333333333333, 0.6066666666666667, 0.6283333333333333, 0.6275, 0.6541666666666667, 0.6366666666666667, 0.6775, 0.665, 0.6808333333333333, 0.6633333333333333, 0.6775, 0.665, 0.6616666666666666, 0.6941666666666667]\n"
     ]
    },
    {
     "ename": "KeyboardInterrupt",
     "evalue": "",
     "output_type": "error",
     "traceback": [
      "\u001b[0;31m---------------------------------------------------------------------------\u001b[0m",
      "\u001b[0;31mKeyboardInterrupt\u001b[0m                         Traceback (most recent call last)",
      "\u001b[0;32m<ipython-input-9-2da6793e81b0>\u001b[0m in \u001b[0;36m<module>\u001b[0;34m\u001b[0m\n\u001b[1;32m     26\u001b[0m     \u001b[0mr\u001b[0m \u001b[0;34m=\u001b[0m \u001b[0mtrainer\u001b[0m\u001b[0;34m.\u001b[0m\u001b[0mload\u001b[0m\u001b[0;34m(\u001b[0m\u001b[0;34m)\u001b[0m\u001b[0;34m\u001b[0m\u001b[0;34m\u001b[0m\u001b[0m\n\u001b[1;32m     27\u001b[0m     \u001b[0;32mif\u001b[0m \u001b[0;32mnot\u001b[0m \u001b[0mr\u001b[0m\u001b[0;34m:\u001b[0m\u001b[0;34m\u001b[0m\u001b[0;34m\u001b[0m\u001b[0m\n\u001b[0;32m---> 28\u001b[0;31m         \u001b[0mr\u001b[0m \u001b[0;34m=\u001b[0m \u001b[0mtrainer\u001b[0m\u001b[0;34m.\u001b[0m\u001b[0mall_tasks\u001b[0m\u001b[0;34m(\u001b[0m\u001b[0;34m)\u001b[0m\u001b[0;34m\u001b[0m\u001b[0;34m\u001b[0m\u001b[0m\n\u001b[0m\u001b[1;32m     29\u001b[0m \u001b[0;31m#     print(r)\u001b[0m\u001b[0;34m\u001b[0m\u001b[0;34m\u001b[0m\u001b[0;34m\u001b[0m\u001b[0m\n\u001b[1;32m     30\u001b[0m     \u001b[0mresults\u001b[0m\u001b[0;34m.\u001b[0m\u001b[0mappend\u001b[0m\u001b[0;34m(\u001b[0m\u001b[0;34m(\u001b[0m\u001b[0mname\u001b[0m\u001b[0;34m,\u001b[0m \u001b[0mr\u001b[0m\u001b[0;34m)\u001b[0m\u001b[0;34m)\u001b[0m\u001b[0;34m\u001b[0m\u001b[0;34m\u001b[0m\u001b[0m\n",
      "\u001b[0;32m/media/jary/DATA/Uni/tesi/codice/Trainer.py\u001b[0m in \u001b[0;36mall_tasks\u001b[0;34m(self, limit)\u001b[0m\n\u001b[1;32m    117\u001b[0m \u001b[0;34m\u001b[0m\u001b[0m\n\u001b[1;32m    118\u001b[0m             \u001b[0;32mfor\u001b[0m \u001b[0me\u001b[0m \u001b[0;32min\u001b[0m \u001b[0mrange\u001b[0m\u001b[0;34m(\u001b[0m\u001b[0mself\u001b[0m\u001b[0;34m.\u001b[0m\u001b[0mepochs_n\u001b[0m\u001b[0;34m)\u001b[0m\u001b[0;34m:\u001b[0m\u001b[0;34m\u001b[0m\u001b[0;34m\u001b[0m\u001b[0m\n\u001b[0;32m--> 119\u001b[0;31m                 \u001b[0mloss\u001b[0m \u001b[0;34m=\u001b[0m \u001b[0mself\u001b[0m\u001b[0;34m.\u001b[0m\u001b[0mepoch\u001b[0m\u001b[0;34m(\u001b[0m\u001b[0me\u001b[0m\u001b[0;34m)\u001b[0m\u001b[0;34m\u001b[0m\u001b[0;34m\u001b[0m\u001b[0m\n\u001b[0m\u001b[1;32m    120\u001b[0m                 \u001b[0mlosses\u001b[0m\u001b[0;34m.\u001b[0m\u001b[0mappend\u001b[0m\u001b[0;34m(\u001b[0m\u001b[0mloss\u001b[0m\u001b[0;34m)\u001b[0m\u001b[0;34m\u001b[0m\u001b[0;34m\u001b[0m\u001b[0m\n\u001b[1;32m    121\u001b[0m \u001b[0;34m\u001b[0m\u001b[0m\n",
      "\u001b[0;32m/media/jary/DATA/Uni/tesi/codice/Trainer.py\u001b[0m in \u001b[0;36mepoch\u001b[0;34m(self, n)\u001b[0m\n\u001b[1;32m    204\u001b[0m \u001b[0;34m\u001b[0m\u001b[0m\n\u001b[1;32m    205\u001b[0m             \u001b[0mself\u001b[0m\u001b[0;34m.\u001b[0m\u001b[0moptimizer\u001b[0m\u001b[0;34m.\u001b[0m\u001b[0mzero_grad\u001b[0m\u001b[0;34m(\u001b[0m\u001b[0;34m)\u001b[0m\u001b[0;34m\u001b[0m\u001b[0;34m\u001b[0m\u001b[0m\n\u001b[0;32m--> 206\u001b[0;31m             \u001b[0moutput\u001b[0m \u001b[0;34m=\u001b[0m \u001b[0mself\u001b[0m\u001b[0;34m.\u001b[0m\u001b[0mmodel\u001b[0m\u001b[0;34m(\u001b[0m\u001b[0mx\u001b[0m\u001b[0;34m)\u001b[0m\u001b[0;34m\u001b[0m\u001b[0;34m\u001b[0m\u001b[0m\n\u001b[0m\u001b[1;32m    207\u001b[0m \u001b[0;34m\u001b[0m\u001b[0m\n\u001b[1;32m    208\u001b[0m             \u001b[0mloss\u001b[0m \u001b[0;34m=\u001b[0m \u001b[0mself\u001b[0m\u001b[0;34m.\u001b[0m\u001b[0mloss_function\u001b[0m\u001b[0;34m(\u001b[0m\u001b[0moutput\u001b[0m\u001b[0;34m,\u001b[0m \u001b[0my\u001b[0m\u001b[0;34m)\u001b[0m\u001b[0;34m\u001b[0m\u001b[0;34m\u001b[0m\u001b[0m\n",
      "\u001b[0;32m~/miniconda3/envs/tesi/lib/python3.6/site-packages/torch/nn/modules/module.py\u001b[0m in \u001b[0;36m__call__\u001b[0;34m(self, *input, **kwargs)\u001b[0m\n\u001b[1;32m    487\u001b[0m             \u001b[0mresult\u001b[0m \u001b[0;34m=\u001b[0m \u001b[0mself\u001b[0m\u001b[0;34m.\u001b[0m\u001b[0m_slow_forward\u001b[0m\u001b[0;34m(\u001b[0m\u001b[0;34m*\u001b[0m\u001b[0minput\u001b[0m\u001b[0;34m,\u001b[0m \u001b[0;34m**\u001b[0m\u001b[0mkwargs\u001b[0m\u001b[0;34m)\u001b[0m\u001b[0;34m\u001b[0m\u001b[0;34m\u001b[0m\u001b[0m\n\u001b[1;32m    488\u001b[0m         \u001b[0;32melse\u001b[0m\u001b[0;34m:\u001b[0m\u001b[0;34m\u001b[0m\u001b[0;34m\u001b[0m\u001b[0m\n\u001b[0;32m--> 489\u001b[0;31m             \u001b[0mresult\u001b[0m \u001b[0;34m=\u001b[0m \u001b[0mself\u001b[0m\u001b[0;34m.\u001b[0m\u001b[0mforward\u001b[0m\u001b[0;34m(\u001b[0m\u001b[0;34m*\u001b[0m\u001b[0minput\u001b[0m\u001b[0;34m,\u001b[0m \u001b[0;34m**\u001b[0m\u001b[0mkwargs\u001b[0m\u001b[0;34m)\u001b[0m\u001b[0;34m\u001b[0m\u001b[0;34m\u001b[0m\u001b[0m\n\u001b[0m\u001b[1;32m    490\u001b[0m         \u001b[0;32mfor\u001b[0m \u001b[0mhook\u001b[0m \u001b[0;32min\u001b[0m \u001b[0mself\u001b[0m\u001b[0;34m.\u001b[0m\u001b[0m_forward_hooks\u001b[0m\u001b[0;34m.\u001b[0m\u001b[0mvalues\u001b[0m\u001b[0;34m(\u001b[0m\u001b[0;34m)\u001b[0m\u001b[0;34m:\u001b[0m\u001b[0;34m\u001b[0m\u001b[0;34m\u001b[0m\u001b[0m\n\u001b[1;32m    491\u001b[0m             \u001b[0mhook_result\u001b[0m \u001b[0;34m=\u001b[0m \u001b[0mhook\u001b[0m\u001b[0;34m(\u001b[0m\u001b[0mself\u001b[0m\u001b[0;34m,\u001b[0m \u001b[0minput\u001b[0m\u001b[0;34m,\u001b[0m \u001b[0mresult\u001b[0m\u001b[0;34m)\u001b[0m\u001b[0;34m\u001b[0m\u001b[0;34m\u001b[0m\u001b[0m\n",
      "\u001b[0;32m/media/jary/DATA/Uni/tesi/codice/networks/Kafnet.py\u001b[0m in \u001b[0;36mforward\u001b[0;34m(self, x)\u001b[0m\n\u001b[1;32m    254\u001b[0m \u001b[0;34m\u001b[0m\u001b[0m\n\u001b[1;32m    255\u001b[0m         \u001b[0;32mif\u001b[0m \u001b[0mmask\u001b[0m\u001b[0;34m.\u001b[0m\u001b[0msum\u001b[0m\u001b[0;34m(\u001b[0m\u001b[0;34m)\u001b[0m \u001b[0;34m!=\u001b[0m \u001b[0;36m0\u001b[0m\u001b[0;34m:\u001b[0m\u001b[0;34m\u001b[0m\u001b[0;34m\u001b[0m\u001b[0m\n\u001b[0;32m--> 256\u001b[0;31m             \u001b[0mx\u001b[0m \u001b[0;34m=\u001b[0m \u001b[0mx\u001b[0m \u001b[0;34m*\u001b[0m \u001b[0mfrom_numpy\u001b[0m\u001b[0;34m(\u001b[0m\u001b[0mmask\u001b[0m\u001b[0;34m)\u001b[0m\u001b[0;34m.\u001b[0m\u001b[0mfloat\u001b[0m\u001b[0;34m(\u001b[0m\u001b[0;34m)\u001b[0m\u001b[0;34m.\u001b[0m\u001b[0mto\u001b[0m\u001b[0;34m(\u001b[0m\u001b[0mx\u001b[0m\u001b[0;34m.\u001b[0m\u001b[0mdevice\u001b[0m\u001b[0;34m)\u001b[0m\u001b[0;34m\u001b[0m\u001b[0;34m\u001b[0m\u001b[0m\n\u001b[0m\u001b[1;32m    257\u001b[0m         \u001b[0;32mreturn\u001b[0m \u001b[0mx\u001b[0m\u001b[0;34m\u001b[0m\u001b[0;34m\u001b[0m\u001b[0m\n\u001b[1;32m    258\u001b[0m \u001b[0;34m\u001b[0m\u001b[0m\n",
      "\u001b[0;31mKeyboardInterrupt\u001b[0m: "
     ]
    }
   ],
   "source": [
    "for name, tec in experiments:\n",
    "    print(name)\n",
    "    \n",
    "    n = deepcopy(net)\n",
    "    c = deepcopy(config)\n",
    "    \n",
    "    c.MODEL_NAME = name\n",
    "\n",
    "    if name == 'gem':\n",
    "        c.CL_PAR['margin'] = 0.5\n",
    "        c.CL_PAR['sample_size'] = 100\n",
    "        c.USE_CL = True\n",
    "        c.IS_INCREMENTAL = True\n",
    "    elif name == 'ewc':\n",
    "        c.CL_PAR['penalty_importance'] = 1e3\n",
    "        c.USE_CL = True\n",
    "        c.IS_INCREMENTAL = True\n",
    "    elif name == 'embedding':\n",
    "        c.CL_PAR = {'penalty_importance': 1, 'weights_type': 'distance', 'sample_size': 30, 'distance': 'cosine'}\n",
    "        c.USE_CL = True\n",
    "        c.IS_INCREMENTAL = True\n",
    "\n",
    "    c.CL_TEC = tec\n",
    "    trainer = Trainer(n, deepcopy(dataset), c, save_modality=2, verbose=False, pretrained_model='./models/completi/kaf')\n",
    "\n",
    "    r = trainer.load()\n",
    "    if not r:\n",
    "        r = trainer.all_tasks()\n",
    "#     print(r)\n",
    "    results.append((name, r))\n",
    "    \n",
    "    del trainer\n",
    "    del n"
   ]
  },
  {
   "cell_type": "code",
   "execution_count": null,
   "metadata": {},
   "outputs": [],
   "source": [
    "print('RESULTS')\n",
    "for name, r in results:\n",
    "    print(name, r['metrics'])\n",
    "    print()"
   ]
  },
  {
   "cell_type": "code",
   "execution_count": null,
   "metadata": {
    "scrolled": false
   },
   "outputs": [],
   "source": [
    "n_task = len(results[0][1]['tasks'])\n",
    "\n",
    "tot_epochs = 0\n",
    "\n",
    "for _, r in results:\n",
    "    for k, v in r['tasks'].items():\n",
    "        tot_epochs = max(tot_epochs, len(v['accuracy']))\n",
    "      \n",
    "fig, ax = plt.subplots(nrows=n_task, ncols=1, figsize=(22, 24), sharex=True, sharey=True)\n",
    "\n",
    "for name, r in results:\n",
    "    for i, task in enumerate(r['tasks'].keys()):\n",
    "\n",
    "        com = r['tasks'][task]\n",
    "        #no_ewt = metrics_no_ewt['tasks'][task]\n",
    "\n",
    "        x = range(tot_epochs-len(com['accuracy']), tot_epochs)\n",
    "\n",
    "        #ax = fig.add_subplot(n_task, 1, i+1, sharex=ax) \n",
    "\n",
    "        ax[i].plot(x, com['accuracy'], label=name)\n",
    "        #ax.plot(x, no_ewt['accuracy'], label='online ewt')\n",
    "\n",
    "        ax[i].set_xticks(range(0, tot_epochs, 5),minor=False)\n",
    "\n",
    "        ax[i].set_title(\"Task {}\".format(task))\n",
    "        ax[i].legend(loc=\"lower left\")\n",
    "        ax[i].grid(True, axis='both')\n",
    "\n",
    "        \n",
    "fig.subplots_adjust(hspace=0.1, wspace=0.01)\n"
   ]
  },
  {
   "cell_type": "code",
   "execution_count": null,
   "metadata": {
    "scrolled": true
   },
   "outputs": [],
   "source": [
    "for name, tec in experiments:\n",
    "\n",
    "    current_w = {n:p.cpu() for n, p in net.named_parameters() if p.requires_grad}\n",
    "\n",
    "    x = np.arange(4)\n",
    "    y = np.arange(len(current_w))\n",
    "    \n",
    "    xx, yy = np.meshgrid(x, y)\n",
    "    z = np.zeros(shape=(len(x), len(y)))\n",
    "    \n",
    "    fig = plt.figure(figsize=(22, 22))\n",
    "    ax = fig.add_subplot(111, projection='3d')\n",
    "    \n",
    "    x_labels = []\n",
    "    \n",
    "    for i in x:\n",
    "\n",
    "        if i == 0:\n",
    "            x_labels.append('0')\n",
    "            \n",
    "        else:\n",
    "            x_labels.append('{}->{}'.format(i-1, i))\n",
    "            \n",
    "        n = deepcopy(net)\n",
    "        c = deepcopy(config)\n",
    "\n",
    "        c.MODEL_NAME = name\n",
    "\n",
    "        if 'name' == 'gem':\n",
    "            c.EWC_IMPORTANCE = 0.5\n",
    "\n",
    "        c.EWC_TYPE = tec\n",
    "\n",
    "        trainer = Trainer(n, deepcopy(dataset), c, save_modality=2)\n",
    "\n",
    "        r = trainer.load(i)\n",
    "        \n",
    "        diff = {n: torch.dist(p.cpu(), current_w[n]) for n, p in trainer.model.named_parameters() if p.requires_grad }\n",
    "        current_w = {n: p.cpu() for n, p in trainer.model.named_parameters() if p.requires_grad }\n",
    "        \n",
    "        for j, (_, d) in enumerate(diff.items()):\n",
    "            z[i, j] = d\n",
    "    \n",
    "\n",
    "    z_n = z.flatten()\n",
    "\n",
    "    ax.view_init(45, 45)\n",
    "    \n",
    "    ax.bar3d(xx.flatten(),\n",
    "          yy.flatten(),\n",
    "          np.zeros(len(z_n)),\n",
    "          0.2, 0.5, z_n )\n",
    "    \n",
    "    ax.set_xticks(x)\n",
    "    ax.set_xticklabels(x_labels)\n",
    "    \n",
    "    ax.set_yticks(y)\n",
    "    ax.set_yticklabels(list(diff.keys()), fontdict={'fontsize':12})\n",
    "    \n",
    "    ax.text(3.5, 0, 2, name.upper(), color='black',  fontsize='xx-large', \n",
    "        bbox=dict(facecolor='white', edgecolor='black'))\n",
    "    \n",
    "    plt.show()"
   ]
  },
  {
   "cell_type": "code",
   "execution_count": null,
   "metadata": {
    "scrolled": false
   },
   "outputs": [],
   "source": [
    "tot_epochs = 0\n",
    "\n",
    "fig, ax = plt.subplots(nrows=len(experiments), ncols=4, figsize=(35, 40), \n",
    "                       sharex=True, sharey=True,  subplot_kw={'projection':'3d'})\n",
    "\n",
    "for k in range(4):\n",
    "    dataset.task = k\n",
    "    \n",
    "    images = []\n",
    "    labels = []\n",
    "    \n",
    "    for im in range(len(dataset)):\n",
    "        \n",
    "        print(im)\n",
    "        d = dataset[im]\n",
    "        if d[1] in [0, 2, 9]: \n",
    "            images.append(d[0])\n",
    "            labels.append(d[1].numpy()[0])\n",
    "    colors = [int(i % 23) for i in labels]\n",
    "\n",
    "    for i, (name, tec) in enumerate(experiments):\n",
    "\n",
    "        tsne_model_en_2d = PCA(n_components=3, random_state=19)\n",
    "\n",
    "        n = deepcopy(net)\n",
    "        c = deepcopy(config)\n",
    "\n",
    "        c.MODEL_NAME = name\n",
    "\n",
    "        if 'name' == 'gem':\n",
    "            config.EWC_IMPORTANCE = 0.5\n",
    "\n",
    "        c.EWC_TYPE = tec\n",
    "\n",
    "        trainer = Trainer(n, deepcopy(dataset), c, save_modality=2)\n",
    "\n",
    "        r = trainer.load()\n",
    "\n",
    "        with torch.no_grad():\n",
    "            a = trainer.model.embedding(torch.stack(images, 0).to(config.DEVICE)).cpu().numpy()\n",
    "            b = tsne_model_en_2d.fit_transform(a)\n",
    "\n",
    "            ax[i][k].scatter(b[:, 0], b[:, 1], b[:, 2], c=colors)\n",
    "            ax[i][k].set_title(\"{} embeddings on task: {}\".format(name, k))\n",
    "            \n",
    "        del trainer\n",
    "        del n\n",
    "plt.show()"
   ]
  },
  {
   "cell_type": "code",
   "execution_count": null,
   "metadata": {},
   "outputs": [],
   "source": []
  }
 ],
 "metadata": {
  "kernelspec": {
   "display_name": "Python 3",
   "language": "python",
   "name": "python3"
  },
  "language_info": {
   "codemirror_mode": {
    "name": "ipython",
    "version": 3
   },
   "file_extension": ".py",
   "mimetype": "text/x-python",
   "name": "python",
   "nbconvert_exporter": "python",
   "pygments_lexer": "ipython3",
   "version": "3.6.7"
  }
 },
 "nbformat": 4,
 "nbformat_minor": 2
}
