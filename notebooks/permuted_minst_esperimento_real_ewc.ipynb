{
 "cells": [
  {
   "cell_type": "code",
   "execution_count": 1,
   "metadata": {},
   "outputs": [],
   "source": [
    "import sys\n",
    "import os\n",
    "module_path = os.path.abspath(os.path.join('..'))\n",
    "if module_path not in sys.path:\n",
    "    sys.path.append(module_path)"
   ]
  },
  {
   "cell_type": "code",
   "execution_count": 2,
   "metadata": {},
   "outputs": [],
   "source": [
    "from networks import NoKafnet, Kafnet\n",
    "import utils.datasetsUtils.MINST as MINST\n",
    "from utils.datasetsUtils.taskManager import SingleTargetClassificationTask, NoTask\n",
    "import configs.configClasses as configClasses\n",
    "from torchvision.transforms import transforms\n",
    "import torch\n",
    "from Trainer import Trainer\n",
    "import matplotlib.pyplot as plt\n",
    "from collections import defaultdict\n",
    "import copy\n",
    "import numpy as np"
   ]
  },
  {
   "cell_type": "code",
   "execution_count": 3,
   "metadata": {
    "scrolled": true
   },
   "outputs": [
    {
     "name": "stdout",
     "output_type": "stream",
     "text": [
      "True\n",
      "1\n",
      "GeForce GTX 1050\n"
     ]
    }
   ],
   "source": [
    "print(torch.cuda.is_available())\n",
    "print(torch.cuda.device_count())\n",
    "print(torch.cuda.get_device_name(torch.cuda.current_device()))"
   ]
  },
  {
   "cell_type": "code",
   "execution_count": 4,
   "metadata": {},
   "outputs": [
    {
     "name": "stdout",
     "output_type": "stream",
     "text": [
      "CONFIG PARAMETERS\n",
      "BATCH_SIZE: 64\n",
      "DEVICE: cuda\n",
      "EPOCHS: 15\n",
      "EWC_IMPORTANCE: 1000\n",
      "EWC_SAMPLE_SIZE: 250\n",
      "EWC_TYPE: <class 'networks.continual_learning.RealEWC'>\n",
      "IS_CONVOLUTIONAL: False\n",
      "ITERS: 1\n",
      "L1_REG: 0\n",
      "LOSS: cross_entropy\n",
      "LR: 0.001\n",
      "MODEL_NAME: \n",
      "OPTIMIZER: SGD\n",
      "RUN_NAME: default\n",
      "USE_EWC: True\n",
      "USE_TENSORBOARD: True\n",
      "\n",
      "CONFIG PARAMETERS\n",
      "BATCH_SIZE: 64\n",
      "DEVICE: cuda\n",
      "EPOCHS: 15\n",
      "EWC_IMPORTANCE: 1000\n",
      "EWC_SAMPLE_SIZE: 250\n",
      "EWC_TYPE: <class 'networks.continual_learning.RealEWC'>\n",
      "IS_CONVOLUTIONAL: False\n",
      "ITERS: 1\n",
      "L1_REG: 0\n",
      "LOSS: cross_entropy\n",
      "LR: 0.001\n",
      "MODEL_NAME: \n",
      "OPTIMIZER: SGD\n",
      "RUN_NAME: default\n",
      "USE_EWC: False\n",
      "USE_TENSORBOARD: True\n",
      "\n"
     ]
    }
   ],
   "source": [
    "config = configClasses.RealEwc()\n",
    "config.EPOCHS = 15\n",
    "config.L1_REG = 0\n",
    "config.EWC_IMPORTANCE = 1000\n",
    "config.IS_CONVOLUTIONAL = False\n",
    "print(config)\n",
    "\n",
    "confing_no_ewt = copy.copy(config)\n",
    "confing_no_ewt.USE_EWC = False\n",
    "print(confing_no_ewt)"
   ]
  },
  {
   "cell_type": "code",
   "execution_count": 5,
   "metadata": {},
   "outputs": [
    {
     "name": "stdout",
     "output_type": "stream",
     "text": [
      "../data/minst/download\n",
      "task #0 with train 56000 and test 14000 images (label: 0)\n",
      "task #1 with train 56000 and test 14000 images (label: 1)\n",
      "task #2 with train 56000 and test 14000 images (label: 2)\n"
     ]
    }
   ],
   "source": [
    "dataset = MINST.PermutedMINST('../data/minst', download=True, n_permutation=3,\n",
    "                        force_download=False, train_split=0.8, transform=None, target_transform=None)\n",
    "dataset.load_dataset()\n",
    "\n",
    "dataset_no_ewt = copy.deepcopy(dataset)"
   ]
  },
  {
   "cell_type": "code",
   "execution_count": 6,
   "metadata": {},
   "outputs": [
    {
     "name": "stdout",
     "output_type": "stream",
     "text": [
      "Numero di parametri rete classica:  638810\n"
     ]
    }
   ],
   "source": [
    "net_ewt = NoKafnet.MLP(len(dataset.class_to_idx))\n",
    "net_no_ewt = copy.deepcopy(net_ewt)\n",
    "\n",
    "print('Numero di parametri rete classica: ', sum([torch.numel(p) for p in net_ewt.parameters()]))"
   ]
  },
  {
   "cell_type": "code",
   "execution_count": 7,
   "metadata": {},
   "outputs": [],
   "source": [
    "trainer_ewt = Trainer(net_ewt, copy.deepcopy(dataset), config)\n",
    "trainer_no_ewt = Trainer(net_no_ewt, copy.deepcopy(dataset), confing_no_ewt)"
   ]
  },
  {
   "cell_type": "code",
   "execution_count": 8,
   "metadata": {
    "scrolled": true
   },
   "outputs": [
    {
     "name": "stderr",
     "output_type": "stream",
     "text": [
      "Training task (ewc) 0, epoch 1: 100%|██████████| 875/875 [00:04<00:00, 187.44it/s, loss=2.3, batch#=875] \n",
      "Testing task 0: 219it [00:00, 235.52it/s, batch#=219]\n",
      "Training task (ewc) 0, epoch 2: 100%|██████████| 875/875 [00:04<00:00, 192.16it/s, loss=2.3, batch#=875]\n",
      "Testing task 0: 219it [00:00, 232.45it/s, batch#=219]\n",
      "Training task (ewc) 0, epoch 3: 100%|██████████| 875/875 [00:04<00:00, 195.51it/s, loss=2.29, batch#=875]\n",
      "Testing task 0: 219it [00:00, 231.70it/s, batch#=219]\n",
      "Training task (ewc) 0, epoch 4: 100%|██████████| 875/875 [00:04<00:00, 192.96it/s, loss=2.28, batch#=875]\n",
      "Testing task 0: 219it [00:00, 230.12it/s, batch#=219]\n",
      "Training task (ewc) 0, epoch 5: 100%|██████████| 875/875 [00:04<00:00, 193.14it/s, loss=2.26, batch#=875]\n",
      "Testing task 0: 219it [00:00, 232.27it/s, batch#=219]\n",
      "Training task (ewc) 0, epoch 6: 100%|██████████| 875/875 [00:04<00:00, 188.29it/s, loss=2.25, batch#=875]\n",
      "Testing task 0: 219it [00:00, 226.95it/s, batch#=219]\n",
      "Training task (ewc) 0, epoch 7: 100%|██████████| 875/875 [00:04<00:00, 194.02it/s, loss=2.21, batch#=875]\n",
      "Testing task 0: 219it [00:00, 237.26it/s, batch#=219]\n",
      "Training task (ewc) 0, epoch 8: 100%|██████████| 875/875 [00:04<00:00, 193.22it/s, loss=2.16, batch#=875]\n",
      "Testing task 0: 219it [00:00, 228.44it/s, batch#=219]\n",
      "Training task (ewc) 0, epoch 9: 100%|██████████| 875/875 [00:04<00:00, 193.94it/s, loss=2.08, batch#=875]\n",
      "Testing task 0: 219it [00:00, 227.87it/s, batch#=219]\n",
      "Training task (ewc) 0, epoch 10: 100%|██████████| 875/875 [00:04<00:00, 189.93it/s, loss=1.95, batch#=875]\n",
      "Testing task 0: 219it [00:00, 225.54it/s, batch#=219]\n",
      "Training task (ewc) 0, epoch 11: 100%|██████████| 875/875 [00:04<00:00, 191.34it/s, loss=1.75, batch#=875]\n",
      "Testing task 0: 219it [00:00, 232.11it/s, batch#=219]\n",
      "Training task (ewc) 0, epoch 12: 100%|██████████| 875/875 [00:04<00:00, 194.45it/s, loss=1.47, batch#=875]\n",
      "Testing task 0: 219it [00:00, 235.56it/s, batch#=219]\n",
      "Training task (ewc) 0, epoch 13: 100%|██████████| 875/875 [00:04<00:00, 192.38it/s, loss=1.19, batch#=875]\n",
      "Testing task 0: 219it [00:00, 230.56it/s, batch#=219]\n",
      "Training task (ewc) 0, epoch 14: 100%|██████████| 875/875 [00:04<00:00, 194.60it/s, loss=0.989, batch#=875]\n",
      "Testing task 0: 219it [00:00, 232.20it/s, batch#=219]\n",
      "Training task (ewc) 0, epoch 15: 100%|██████████| 875/875 [00:04<00:00, 193.41it/s, loss=0.857, batch#=875]\n",
      "Testing task 0: 219it [00:00, 224.21it/s, batch#=219]\n",
      "Testing task 1: 219it [00:00, 230.03it/s, batch#=219]\n",
      "Testing task 2: 219it [00:00, 225.65it/s, batch#=219]\n",
      "Training task (ewc) 1, epoch 1: 100%|██████████| 875/875 [00:06<00:00, 148.50it/s, loss=1.7, batch#=875] \n",
      "Testing task 1: 219it [00:00, 231.00it/s, batch#=219]\n",
      "Testing task 0: 219it [00:00, 222.44it/s, batch#=219]\n",
      "Training task (ewc) 1, epoch 2: 100%|██████████| 875/875 [00:06<00:00, 143.32it/s, loss=1.24, batch#=875]\n",
      "Testing task 1: 219it [00:00, 230.99it/s, batch#=219]\n",
      "Testing task 0: 219it [00:00, 229.71it/s, batch#=219]\n",
      "Training task (ewc) 1, epoch 3: 100%|██████████| 875/875 [00:06<00:00, 145.39it/s, loss=1.09, batch#=875]\n",
      "Testing task 1: 219it [00:00, 229.36it/s, batch#=219]\n",
      "Testing task 0: 219it [00:00, 235.03it/s, batch#=219]\n",
      "Training task (ewc) 1, epoch 4: 100%|██████████| 875/875 [00:06<00:00, 145.13it/s, loss=1.01, batch#=875]\n",
      "Testing task 1: 219it [00:00, 231.25it/s, batch#=219]\n",
      "Testing task 0: 219it [00:00, 234.14it/s, batch#=219]\n",
      "Training task (ewc) 1, epoch 5: 100%|██████████| 875/875 [00:06<00:00, 142.45it/s, loss=0.953, batch#=875]\n",
      "Testing task 1: 219it [00:00, 227.07it/s, batch#=219]\n",
      "Testing task 0: 219it [00:00, 235.59it/s, batch#=219]\n",
      "Training task (ewc) 1, epoch 6: 100%|██████████| 875/875 [00:06<00:00, 143.42it/s, loss=0.91, batch#=875] \n",
      "Testing task 1: 219it [00:00, 235.00it/s, batch#=219]\n",
      "Testing task 0: 219it [00:00, 233.54it/s, batch#=219]\n",
      "Training task (ewc) 1, epoch 7: 100%|██████████| 875/875 [00:06<00:00, 144.51it/s, loss=0.875, batch#=875]\n",
      "Testing task 1: 219it [00:00, 235.34it/s, batch#=219]\n",
      "Testing task 0: 219it [00:00, 234.57it/s, batch#=219]\n",
      "Training task (ewc) 1, epoch 8: 100%|██████████| 875/875 [00:06<00:00, 144.67it/s, loss=0.847, batch#=875]\n",
      "Testing task 1: 219it [00:00, 231.59it/s, batch#=219]\n",
      "Testing task 0: 219it [00:00, 229.03it/s, batch#=219]\n",
      "Training task (ewc) 1, epoch 9: 100%|██████████| 875/875 [00:06<00:00, 144.80it/s, loss=0.822, batch#=875]\n",
      "Testing task 1: 219it [00:00, 224.39it/s, batch#=219]\n",
      "Testing task 0: 219it [00:00, 224.00it/s, batch#=219]\n",
      "Training task (ewc) 1, epoch 10: 100%|██████████| 875/875 [00:06<00:00, 144.92it/s, loss=0.801, batch#=875]\n",
      "Testing task 1: 219it [00:00, 232.06it/s, batch#=219]\n",
      "Testing task 0: 219it [00:00, 231.36it/s, batch#=219]\n",
      "Training task (ewc) 1, epoch 11: 100%|██████████| 875/875 [00:06<00:00, 145.36it/s, loss=0.781, batch#=875]\n",
      "Testing task 1: 219it [00:00, 230.43it/s, batch#=219]\n",
      "Testing task 0: 219it [00:00, 231.85it/s, batch#=219]\n",
      "Training task (ewc) 1, epoch 12: 100%|██████████| 875/875 [00:06<00:00, 143.79it/s, loss=0.764, batch#=875]\n",
      "Testing task 1: 219it [00:00, 239.11it/s, batch#=219]\n",
      "Testing task 0: 219it [00:00, 238.37it/s, batch#=219]\n",
      "Training task (ewc) 1, epoch 13: 100%|██████████| 875/875 [00:06<00:00, 136.65it/s, loss=0.749, batch#=875]\n",
      "Testing task 1: 219it [00:00, 227.34it/s, batch#=219]\n",
      "Testing task 0: 219it [00:00, 223.19it/s, batch#=219]\n",
      "Training task (ewc) 1, epoch 14: 100%|██████████| 875/875 [00:06<00:00, 141.03it/s, loss=0.735, batch#=875]\n",
      "Testing task 1: 219it [00:00, 225.69it/s, batch#=219]\n",
      "Testing task 0: 219it [00:00, 227.94it/s, batch#=219]\n",
      "Training task (ewc) 1, epoch 15: 100%|██████████| 875/875 [00:05<00:00, 146.26it/s, loss=0.722, batch#=875]\n",
      "Testing task 1: 219it [00:00, 226.58it/s, batch#=219]\n",
      "Testing task 0: 219it [00:00, 227.85it/s, batch#=219]\n",
      "Testing task 2: 219it [00:00, 230.52it/s, batch#=219]\n",
      "Training task (ewc) 2, epoch 1: 100%|██████████| 875/875 [00:07<00:00, 121.04it/s, loss=2.24, batch#=875]\n",
      "Testing task 2: 219it [00:00, 233.94it/s, batch#=219]\n",
      "Testing task 0: 219it [00:00, 236.32it/s, batch#=219]\n",
      "Testing task 1: 219it [00:00, 230.24it/s, batch#=219]\n",
      "Training task (ewc) 2, epoch 2: 100%|██████████| 875/875 [00:07<00:00, 119.87it/s, loss=1.72, batch#=875]\n",
      "Testing task 2: 219it [00:00, 235.43it/s, batch#=219]\n",
      "Testing task 0: 219it [00:00, 235.80it/s, batch#=219]\n",
      "Testing task 1: 219it [00:00, 234.76it/s, batch#=219]\n",
      "Training task (ewc) 2, epoch 3: 100%|██████████| 875/875 [00:07<00:00, 119.72it/s, loss=1.58, batch#=875]\n",
      "Testing task 2: 219it [00:00, 239.06it/s, batch#=219]\n",
      "Testing task 0: 219it [00:00, 236.95it/s, batch#=219]\n",
      "Testing task 1: 219it [00:00, 233.37it/s, batch#=219]\n",
      "Training task (ewc) 2, epoch 4: 100%|██████████| 875/875 [00:07<00:00, 118.28it/s, loss=1.5, batch#=875] \n",
      "Testing task 2: 219it [00:00, 229.34it/s, batch#=219]\n",
      "Testing task 0: 219it [00:00, 228.69it/s, batch#=219]\n",
      "Testing task 1: 219it [00:00, 231.93it/s, batch#=219]\n",
      "Training task (ewc) 2, epoch 5: 100%|██████████| 875/875 [00:07<00:00, 118.15it/s, loss=1.45, batch#=875]\n",
      "Testing task 2: 219it [00:00, 231.71it/s, batch#=219]\n",
      "Testing task 0: 219it [00:00, 229.62it/s, batch#=219]\n",
      "Testing task 1: 219it [00:00, 239.68it/s, batch#=219]\n",
      "Training task (ewc) 2, epoch 6: 100%|██████████| 875/875 [00:07<00:00, 119.79it/s, loss=1.41, batch#=875]\n",
      "Testing task 2: 219it [00:00, 228.35it/s, batch#=219]\n",
      "Testing task 0: 219it [00:00, 235.93it/s, batch#=219]\n",
      "Testing task 1: 219it [00:00, 232.69it/s, batch#=219]\n",
      "Training task (ewc) 2, epoch 7: 100%|██████████| 875/875 [00:07<00:00, 119.42it/s, loss=1.38, batch#=875]\n",
      "Testing task 2: 219it [00:00, 235.08it/s, batch#=219]\n",
      "Testing task 0: 219it [00:00, 232.02it/s, batch#=219]\n",
      "Testing task 1: 219it [00:00, 231.06it/s, batch#=219]\n",
      "Training task (ewc) 2, epoch 8: 100%|██████████| 875/875 [00:07<00:00, 120.07it/s, loss=1.36, batch#=875]\n",
      "Testing task 2: 219it [00:00, 237.15it/s, batch#=219]\n",
      "Testing task 0: 219it [00:00, 236.42it/s, batch#=219]\n",
      "Testing task 1: 219it [00:00, 235.53it/s, batch#=219]\n",
      "Training task (ewc) 2, epoch 9: 100%|██████████| 875/875 [00:07<00:00, 119.79it/s, loss=1.34, batch#=875]\n",
      "Testing task 2: 219it [00:00, 229.40it/s, batch#=219]\n",
      "Testing task 0: 219it [00:00, 228.53it/s, batch#=219]\n"
     ]
    },
    {
     "name": "stderr",
     "output_type": "stream",
     "text": [
      "Testing task 1: 219it [00:00, 233.41it/s, batch#=219]\n",
      "Training task (ewc) 2, epoch 10: 100%|██████████| 875/875 [00:07<00:00, 119.69it/s, loss=1.32, batch#=875]\n",
      "Testing task 2: 219it [00:00, 229.05it/s, batch#=219]\n",
      "Testing task 0: 219it [00:00, 234.14it/s, batch#=219]\n",
      "Testing task 1: 219it [00:00, 234.58it/s, batch#=219]\n",
      "Training task (ewc) 2, epoch 11: 100%|██████████| 875/875 [00:07<00:00, 121.03it/s, loss=1.31, batch#=875]\n",
      "Testing task 2: 219it [00:00, 237.02it/s, batch#=219]\n",
      "Testing task 0: 219it [00:00, 229.87it/s, batch#=219]\n",
      "Testing task 1: 219it [00:00, 233.29it/s, batch#=219]\n",
      "Training task (ewc) 2, epoch 12: 100%|██████████| 875/875 [00:07<00:00, 117.09it/s, loss=1.29, batch#=875]\n",
      "Testing task 2: 219it [00:01, 223.48it/s, batch#=219]\n",
      "Testing task 0: 219it [00:01, 208.16it/s, batch#=219]\n",
      "Testing task 1: 219it [00:01, 217.27it/s, batch#=219]\n",
      "Training task (ewc) 2, epoch 13: 100%|██████████| 875/875 [00:07<00:00, 118.61it/s, loss=1.28, batch#=875]\n",
      "Testing task 2: 219it [00:00, 234.54it/s, batch#=219]\n",
      "Testing task 0: 219it [00:00, 236.78it/s, batch#=219]\n",
      "Testing task 1: 219it [00:00, 236.71it/s, batch#=219]\n",
      "Training task (ewc) 2, epoch 14: 100%|██████████| 875/875 [00:07<00:00, 117.73it/s, loss=1.27, batch#=875]\n",
      "Testing task 2: 219it [00:00, 231.73it/s, batch#=219]\n",
      "Testing task 0: 219it [00:00, 230.16it/s, batch#=219]\n",
      "Testing task 1: 219it [00:00, 231.09it/s, batch#=219]\n",
      "Training task (ewc) 2, epoch 15: 100%|██████████| 875/875 [00:07<00:00, 119.70it/s, loss=1.25, batch#=875]\n",
      "Testing task 2: 219it [00:00, 232.42it/s, batch#=219]\n",
      "Testing task 0: 219it [00:00, 221.13it/s, batch#=219]\n",
      "Testing task 1: 219it [00:00, 230.03it/s, batch#=219]\n",
      "/media/jary/DATA/Uni/tesi/master-thesis-master/utils/datasetsUtils/dataset.py:53: UserWarning: No more tasks...\n",
      "  warnings.warn(\"No more tasks...\")\n"
     ]
    }
   ],
   "source": [
    "results_ewt, metrics_ewt = trainer_ewt.all_tasks()"
   ]
  },
  {
   "cell_type": "code",
   "execution_count": 9,
   "metadata": {
    "scrolled": true
   },
   "outputs": [
    {
     "name": "stderr",
     "output_type": "stream",
     "text": [
      "Training task 0, epoch 1: 100%|██████████| 875/875 [00:04<00:00, 193.54it/s, loss=2.3, batch#=875] \n",
      "Testing task 0: 219it [00:00, 225.71it/s, batch#=219]\n",
      "Training task 0, epoch 2: 100%|██████████| 875/875 [00:04<00:00, 196.54it/s, loss=2.3, batch#=875]\n",
      "Testing task 0: 219it [00:00, 228.44it/s, batch#=219]\n",
      "Training task 0, epoch 3: 100%|██████████| 875/875 [00:04<00:00, 194.65it/s, loss=2.29, batch#=875]\n",
      "Testing task 0: 219it [00:00, 229.95it/s, batch#=219]\n",
      "Training task 0, epoch 4: 100%|██████████| 875/875 [00:04<00:00, 195.24it/s, loss=2.28, batch#=875]\n",
      "Testing task 0: 219it [00:00, 233.93it/s, batch#=219]\n",
      "Training task 0, epoch 5: 100%|██████████| 875/875 [00:04<00:00, 197.96it/s, loss=2.26, batch#=875]\n",
      "Testing task 0: 219it [00:00, 231.95it/s, batch#=219]\n",
      "Training task 0, epoch 6: 100%|██████████| 875/875 [00:04<00:00, 193.71it/s, loss=2.25, batch#=875]\n",
      "Testing task 0: 219it [00:00, 230.62it/s, batch#=219]\n",
      "Training task 0, epoch 7: 100%|██████████| 875/875 [00:04<00:00, 196.57it/s, loss=2.21, batch#=875]\n",
      "Testing task 0: 219it [00:00, 229.08it/s, batch#=219]\n",
      "Training task 0, epoch 8: 100%|██████████| 875/875 [00:04<00:00, 196.38it/s, loss=2.16, batch#=875]\n",
      "Testing task 0: 219it [00:00, 227.92it/s, batch#=219]\n",
      "Training task 0, epoch 9: 100%|██████████| 875/875 [00:04<00:00, 197.13it/s, loss=2.08, batch#=875]\n",
      "Testing task 0: 219it [00:00, 234.38it/s, batch#=219]\n",
      "Training task 0, epoch 10: 100%|██████████| 875/875 [00:04<00:00, 195.96it/s, loss=1.95, batch#=875]\n",
      "Testing task 0: 219it [00:00, 235.33it/s, batch#=219]\n",
      "Training task 0, epoch 11: 100%|██████████| 875/875 [00:04<00:00, 194.53it/s, loss=1.75, batch#=875]\n",
      "Testing task 0: 219it [00:00, 232.47it/s, batch#=219]\n",
      "Training task 0, epoch 12: 100%|██████████| 875/875 [00:04<00:00, 196.50it/s, loss=1.47, batch#=875]\n",
      "Testing task 0: 219it [00:00, 227.28it/s, batch#=219]\n",
      "Training task 0, epoch 13: 100%|██████████| 875/875 [00:04<00:00, 196.03it/s, loss=1.19, batch#=875]\n",
      "Testing task 0: 219it [00:00, 240.33it/s, batch#=219]\n",
      "Training task 0, epoch 14: 100%|██████████| 875/875 [00:04<00:00, 197.92it/s, loss=0.988, batch#=875]\n",
      "Testing task 0: 219it [00:00, 232.36it/s, batch#=219]\n",
      "Training task 0, epoch 15: 100%|██████████| 875/875 [00:04<00:00, 196.89it/s, loss=0.857, batch#=875]\n",
      "Testing task 0: 219it [00:00, 233.29it/s, batch#=219]\n",
      "Testing task 1: 219it [00:00, 236.04it/s, batch#=219]\n",
      "Testing task 2: 219it [00:00, 236.22it/s, batch#=219]\n",
      "Training task 1, epoch 1: 100%|██████████| 875/875 [00:04<00:00, 195.57it/s, loss=1.63, batch#=875]\n",
      "Testing task 1: 219it [00:00, 231.40it/s, batch#=219]\n",
      "Testing task 0: 219it [00:00, 231.64it/s, batch#=219]\n",
      "Training task 1, epoch 2: 100%|██████████| 875/875 [00:04<00:00, 196.48it/s, loss=1.07, batch#=875]\n",
      "Testing task 1: 219it [00:00, 231.98it/s, batch#=219]\n",
      "Testing task 0: 219it [00:00, 233.20it/s, batch#=219]\n",
      "Training task 1, epoch 3: 100%|██████████| 875/875 [00:04<00:00, 196.26it/s, loss=0.868, batch#=875]\n",
      "Testing task 1: 219it [00:00, 234.21it/s, batch#=219]\n",
      "Testing task 0: 219it [00:00, 232.83it/s, batch#=219]\n",
      "Training task 1, epoch 4: 100%|██████████| 875/875 [00:04<00:00, 194.46it/s, loss=0.759, batch#=875]\n",
      "Testing task 1: 219it [00:00, 229.02it/s, batch#=219]\n",
      "Testing task 0: 219it [00:00, 231.45it/s, batch#=219]\n",
      "Training task 1, epoch 5: 100%|██████████| 875/875 [00:04<00:00, 197.65it/s, loss=0.687, batch#=875]\n",
      "Testing task 1: 219it [00:00, 234.05it/s, batch#=219]\n",
      "Testing task 0: 219it [00:00, 235.00it/s, batch#=219]\n",
      "Training task 1, epoch 6: 100%|██████████| 875/875 [00:04<00:00, 192.39it/s, loss=0.635, batch#=875]\n",
      "Testing task 1: 219it [00:00, 228.24it/s, batch#=219]\n",
      "Testing task 0: 219it [00:00, 225.79it/s, batch#=219]\n",
      "Training task 1, epoch 7: 100%|██████████| 875/875 [00:04<00:00, 195.68it/s, loss=0.593, batch#=875]\n",
      "Testing task 1: 219it [00:00, 232.19it/s, batch#=219]\n",
      "Testing task 0: 219it [00:00, 237.54it/s, batch#=219]\n",
      "Training task 1, epoch 8: 100%|██████████| 875/875 [00:04<00:00, 197.20it/s, loss=0.56, batch#=875] \n",
      "Testing task 1: 219it [00:00, 231.70it/s, batch#=219]\n",
      "Testing task 0: 219it [00:01, 203.42it/s, batch#=219]\n",
      "Training task 1, epoch 9: 100%|██████████| 875/875 [00:05<00:00, 174.48it/s, loss=0.533, batch#=875]\n",
      "Testing task 1: 219it [00:00, 229.27it/s, batch#=219]\n",
      "Testing task 0: 219it [00:00, 233.18it/s, batch#=219]\n",
      "Training task 1, epoch 10: 100%|██████████| 875/875 [00:04<00:00, 192.28it/s, loss=0.51, batch#=875] \n",
      "Testing task 1: 219it [00:01, 202.62it/s, batch#=219]\n",
      "Testing task 0: 219it [00:00, 219.99it/s, batch#=219]\n",
      "Training task 1, epoch 11: 100%|██████████| 875/875 [00:04<00:00, 185.30it/s, loss=0.491, batch#=875]\n",
      "Testing task 1: 219it [00:00, 225.53it/s, batch#=219]\n",
      "Testing task 0: 219it [00:00, 225.96it/s, batch#=219]\n",
      "Training task 1, epoch 12: 100%|██████████| 875/875 [00:04<00:00, 189.11it/s, loss=0.474, batch#=875]\n",
      "Testing task 1: 219it [00:00, 225.85it/s, batch#=219]\n",
      "Testing task 0: 219it [00:00, 225.61it/s, batch#=219]\n",
      "Training task 1, epoch 13: 100%|██████████| 875/875 [00:04<00:00, 189.46it/s, loss=0.459, batch#=875]\n",
      "Testing task 1: 219it [00:00, 227.39it/s, batch#=219]\n",
      "Testing task 0: 219it [00:00, 226.87it/s, batch#=219]\n",
      "Training task 1, epoch 14: 100%|██████████| 875/875 [00:04<00:00, 190.71it/s, loss=0.446, batch#=875]\n",
      "Testing task 1: 219it [00:00, 231.40it/s, batch#=219]\n",
      "Testing task 0: 219it [00:00, 225.90it/s, batch#=219]\n",
      "Training task 1, epoch 15: 100%|██████████| 875/875 [00:04<00:00, 191.21it/s, loss=0.434, batch#=875]\n",
      "Testing task 1: 219it [00:00, 232.93it/s, batch#=219]\n",
      "Testing task 0: 219it [00:00, 229.76it/s, batch#=219]\n",
      "Testing task 2: 219it [00:00, 231.50it/s, batch#=219]\n",
      "Training task 2, epoch 1: 100%|██████████| 875/875 [00:04<00:00, 192.86it/s, loss=1.11, batch#=875]\n",
      "Testing task 2: 219it [00:00, 233.47it/s, batch#=219]\n",
      "Testing task 0: 219it [00:00, 233.20it/s, batch#=219]\n",
      "Testing task 1: 219it [00:00, 236.50it/s, batch#=219]\n",
      "Training task 2, epoch 2: 100%|██████████| 875/875 [00:04<00:00, 192.22it/s, loss=0.676, batch#=875]\n",
      "Testing task 2: 219it [00:00, 228.94it/s, batch#=219]\n",
      "Testing task 0: 219it [00:00, 224.90it/s, batch#=219]\n",
      "Testing task 1: 219it [00:00, 228.43it/s, batch#=219]\n",
      "Training task 2, epoch 3: 100%|██████████| 875/875 [00:04<00:00, 188.36it/s, loss=0.58, batch#=875] \n",
      "Testing task 2: 219it [00:00, 227.77it/s, batch#=219]\n",
      "Testing task 0: 219it [00:00, 231.81it/s, batch#=219]\n",
      "Testing task 1: 219it [00:00, 230.39it/s, batch#=219]\n",
      "Training task 2, epoch 4: 100%|██████████| 875/875 [00:04<00:00, 193.03it/s, loss=0.53, batch#=875] \n",
      "Testing task 2: 219it [00:00, 234.11it/s, batch#=219]\n",
      "Testing task 0: 219it [00:00, 229.58it/s, batch#=219]\n",
      "Testing task 1: 219it [00:00, 232.90it/s, batch#=219]\n",
      "Training task 2, epoch 5: 100%|██████████| 875/875 [00:04<00:00, 191.53it/s, loss=0.496, batch#=875]\n",
      "Testing task 2: 219it [00:00, 232.14it/s, batch#=219]\n",
      "Testing task 0: 219it [00:00, 234.73it/s, batch#=219]\n",
      "Testing task 1: 219it [00:00, 228.78it/s, batch#=219]\n",
      "Training task 2, epoch 6: 100%|██████████| 875/875 [00:04<00:00, 197.34it/s, loss=0.471, batch#=875]\n",
      "Testing task 2: 219it [00:00, 233.84it/s, batch#=219]\n",
      "Testing task 0: 219it [00:00, 235.08it/s, batch#=219]\n",
      "Testing task 1: 219it [00:00, 236.15it/s, batch#=219]\n",
      "Training task 2, epoch 7: 100%|██████████| 875/875 [00:04<00:00, 194.95it/s, loss=0.451, batch#=875]\n",
      "Testing task 2: 219it [00:00, 225.97it/s, batch#=219]\n",
      "Testing task 0: 219it [00:00, 233.30it/s, batch#=219]\n",
      "Testing task 1: 219it [00:00, 230.50it/s, batch#=219]\n",
      "Training task 2, epoch 8: 100%|██████████| 875/875 [00:04<00:00, 195.66it/s, loss=0.435, batch#=875]\n",
      "Testing task 2: 219it [00:00, 220.79it/s, batch#=219]\n",
      "Testing task 0: 219it [00:00, 232.36it/s, batch#=219]\n",
      "Testing task 1: 219it [00:00, 226.05it/s, batch#=219]\n",
      "Training task 2, epoch 9: 100%|██████████| 875/875 [00:04<00:00, 187.92it/s, loss=0.421, batch#=875]\n",
      "Testing task 2: 219it [00:00, 226.36it/s, batch#=219]\n",
      "Testing task 0: 219it [00:00, 228.77it/s, batch#=219]\n",
      "Testing task 1: 219it [00:00, 227.26it/s, batch#=219]\n",
      "Training task 2, epoch 10: 100%|██████████| 875/875 [00:04<00:00, 193.00it/s, loss=0.408, batch#=875]\n",
      "Testing task 2: 219it [00:00, 227.12it/s, batch#=219]\n"
     ]
    },
    {
     "name": "stderr",
     "output_type": "stream",
     "text": [
      "Testing task 0: 219it [00:00, 232.66it/s, batch#=219]\n",
      "Testing task 1: 219it [00:00, 240.19it/s, batch#=219]\n",
      "Training task 2, epoch 11: 100%|██████████| 875/875 [00:04<00:00, 195.17it/s, loss=0.397, batch#=875]\n",
      "Testing task 2: 219it [00:00, 228.66it/s, batch#=219]\n",
      "Testing task 0: 219it [00:00, 240.44it/s, batch#=219]\n",
      "Testing task 1: 219it [00:00, 233.96it/s, batch#=219]\n",
      "Training task 2, epoch 12: 100%|██████████| 875/875 [00:04<00:00, 193.58it/s, loss=0.387, batch#=875]\n",
      "Testing task 2: 219it [00:00, 232.69it/s, batch#=219]\n",
      "Testing task 0: 219it [00:00, 234.45it/s, batch#=219]\n",
      "Testing task 1: 219it [00:00, 233.96it/s, batch#=219]\n",
      "Training task 2, epoch 13: 100%|██████████| 875/875 [00:04<00:00, 198.41it/s, loss=0.378, batch#=875]\n",
      "Testing task 2: 219it [00:00, 238.11it/s, batch#=219]\n",
      "Testing task 0: 219it [00:00, 235.73it/s, batch#=219]\n",
      "Testing task 1: 219it [00:00, 234.38it/s, batch#=219]\n",
      "Training task 2, epoch 14: 100%|██████████| 875/875 [00:04<00:00, 194.50it/s, loss=0.37, batch#=875] \n",
      "Testing task 2: 219it [00:00, 231.60it/s, batch#=219]\n",
      "Testing task 0: 219it [00:00, 236.19it/s, batch#=219]\n",
      "Testing task 1: 219it [00:00, 239.48it/s, batch#=219]\n",
      "Training task 2, epoch 15: 100%|██████████| 875/875 [00:04<00:00, 197.70it/s, loss=0.362, batch#=875]\n",
      "Testing task 2: 219it [00:00, 233.05it/s, batch#=219]\n",
      "Testing task 0: 219it [00:00, 223.75it/s, batch#=219]\n",
      "Testing task 1: 219it [00:00, 234.56it/s, batch#=219]\n"
     ]
    }
   ],
   "source": [
    "results_no_ewt, metrics_no_ewt = trainer_no_ewt.all_tasks()"
   ]
  },
  {
   "cell_type": "code",
   "execution_count": 10,
   "metadata": {
    "scrolled": false
   },
   "outputs": [
    {
     "name": "stdout",
     "output_type": "stream",
     "text": [
      "No ewc {'fwt': 0.7698333333333335, 'bwt': -0.05838095238095239, 'remembering': 0.9416190476190476, 'pbwt': 0, 'accuracy': 0.4925833333333334}\n",
      "Ewc {'fwt': 0.8057619047619048, 'bwt': -0.009880952380952324, 'remembering': 0.9901190476190477, 'pbwt': 0, 'accuracy': 0.47754761904761894}\n"
     ]
    },
    {
     "data": {
      "image/png": "[encoded data removed]",
      "text/plain": [
       "<Figure size 864x1728 with 3 Axes>"
      ]
     },
     "metadata": {
      "needs_background": "light"
     },
     "output_type": "display_data"
    }
   ],
   "source": [
    "n_task = len(metrics_ewt['tasks'])\n",
    "tot_epochs = 0\n",
    "\n",
    "print('No ewc', metrics_no_ewt['metrics'])\n",
    "print('Ewc', metrics_ewt['metrics'])\n",
    "\n",
    "\n",
    "for k, v in metrics_no_ewt['tasks'].items():\n",
    "    tot_epochs = max(tot_epochs, len(v['accuracy']))\n",
    "             \n",
    "for k, v in metrics_ewt['tasks'].items():\n",
    "    tot_epochs = max(tot_epochs, len(v['accuracy']))\n",
    "      \n",
    "fig = plt.figure(figsize=(12, 24))\n",
    "\n",
    "ax = None\n",
    "for i, task in enumerate(metrics_ewt['tasks'].keys()):\n",
    "        \n",
    "    ewt = metrics_ewt['tasks'][task]\n",
    "    no_ewt = metrics_no_ewt['tasks'][task]\n",
    "\n",
    "\n",
    "    x = range(tot_epochs-len(ewt['accuracy']), tot_epochs)\n",
    "\n",
    "    ax = fig.add_subplot(n_task, 1, i+1, sharex=ax) \n",
    "    \n",
    "    ax.plot(x, ewt['accuracy'], label='ewt')\n",
    "    ax.plot(x, no_ewt['accuracy'], label='no ewt')\n",
    "\n",
    "    ax.set_xticks(range(0, tot_epochs, 5),minor=False)\n",
    "    \n",
    "    ax.set_title(\"Task {}\".format(task))\n",
    "    ax.legend(loc=\"lower left\")\n",
    "    ax.grid(True, axis='x')\n",
    "    \n",
    "fig.subplots_adjust(hspace=0.01)\n"
   ]
  },
  {
   "cell_type": "code",
   "execution_count": null,
   "metadata": {},
   "outputs": [],
   "source": []
  }
 ],
 "metadata": {
  "kernelspec": {
   "display_name": "Python 3",
   "language": "python",
   "name": "python3"
  },
  "language_info": {
   "codemirror_mode": {
    "name": "ipython",
    "version": 3
   },
   "file_extension": ".py",
   "mimetype": "text/x-python",
   "name": "python",
   "nbconvert_exporter": "python",
   "pygments_lexer": "ipython3",
   "version": "3.6.7"
  }
 },
 "nbformat": 4,
 "nbformat_minor": 2
}
