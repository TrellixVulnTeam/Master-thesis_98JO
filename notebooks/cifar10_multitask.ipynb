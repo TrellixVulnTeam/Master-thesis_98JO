{
 "cells": [
  {
   "cell_type": "code",
   "execution_count": 1,
   "metadata": {},
   "outputs": [],
   "source": [
    "import sys\n",
    "import os\n",
    "module_path = os.path.abspath(os.path.join('..'))\n",
    "if module_path not in sys.path:\n",
    "    sys.path.append(module_path)"
   ]
  },
  {
   "cell_type": "code",
   "execution_count": 2,
   "metadata": {},
   "outputs": [],
   "source": [
    "from networks import NoKafnet, Kafnet\n",
    "import utils.datasetsUtils.CIFAR as CIFAR\n",
    "from utils.datasetsUtils.taskManager import SingleTargetClassificationTask, NoTask\n",
    "from configs.configs import DefaultConfig\n",
    "from torchvision.transforms import transforms\n",
    "import torch\n",
    "from Trainer import Trainer\n",
    "import matplotlib.pyplot as plt\n",
    "from collections import defaultdict\n",
    "import copy\n",
    "import numpy as np"
   ]
  },
  {
   "cell_type": "code",
   "execution_count": 3,
   "metadata": {
    "scrolled": true
   },
   "outputs": [
    {
     "name": "stdout",
     "output_type": "stream",
     "text": [
      "True\n",
      "1\n",
      "GeForce GTX 1050\n"
     ]
    }
   ],
   "source": [
    "print(torch.cuda.is_available())\n",
    "print(torch.cuda.device_count())\n",
    "print(torch.cuda.get_device_name(torch.cuda.current_device()))"
   ]
  },
  {
   "cell_type": "code",
   "execution_count": 4,
   "metadata": {},
   "outputs": [
    {
     "name": "stdout",
     "output_type": "stream",
     "text": [
      "CONFIG PARAMETERS\n",
      "BATCH_SIZE: 64\n",
      "DEVICE: cuda\n",
      "EPOCHS: 2\n",
      "EWC_IMPORTANCE: 1000\n",
      "EWC_SAMPLE_SIZE: 250\n",
      "IS_CONVOLUTIONAL: True\n",
      "ITERS: 1\n",
      "L1_REG: 0.0001\n",
      "LOSS: cross_entropy\n",
      "LR: 0.001\n",
      "MODEL_NAME: \n",
      "OPTIMIZER: SGD\n",
      "RUN_NAME: default\n",
      "USE_EWC: True\n",
      "USE_TENSORBOARD: True\n",
      "\n",
      "CONFIG PARAMETERS\n",
      "BATCH_SIZE: 64\n",
      "DEVICE: cuda\n",
      "EPOCHS: 2\n",
      "EWC_IMPORTANCE: 1000\n",
      "EWC_SAMPLE_SIZE: 250\n",
      "IS_CONVOLUTIONAL: True\n",
      "ITERS: 1\n",
      "L1_REG: 0.0001\n",
      "LOSS: cross_entropy\n",
      "LR: 0.001\n",
      "MODEL_NAME: \n",
      "OPTIMIZER: SGD\n",
      "RUN_NAME: default\n",
      "USE_EWC: False\n",
      "USE_TENSORBOARD: True\n",
      "\n"
     ]
    }
   ],
   "source": [
    "config = DefaultConfig()\n",
    "print(config)\n",
    "\n",
    "confing_no_ewt = copy.copy(config)\n",
    "confing_no_ewt.USE_EWC = False\n",
    "print(confing_no_ewt)"
   ]
  },
  {
   "cell_type": "code",
   "execution_count": null,
   "metadata": {},
   "outputs": [
    {
     "name": "stdout",
     "output_type": "stream",
     "text": [
      "../data/cifar10/download\n",
      "task #0 with train 48000 and test 12000 images (label: airplane)\n",
      "task #1 with train 48000 and test 12000 images (label: automobile)\n",
      "task #2 with train 48000 and test 12000 images (label: bird)\n",
      "task #3 with train 48000 and test 12000 images (label: cat)\n",
      "task #4 with train 48000 and test 12000 images (label: deer)\n",
      "task #5 with train 48000 and test 12000 images (label: dog)\n",
      "task #6 with train 48000 and test 12000 images (label: frog)\n",
      "task #7 with train 48000 and test 12000 images (label: horse)\n",
      "task #8 with train 48000 and test 12000 images (label: ship)\n",
      "task #9 with train 48000 and test 12000 images (label: truck)\n",
      "../data/cifar10/download\n",
      "task #0 with train 48000 and test 12000 images (label: airplane)\n",
      "task #1 with train 48000 and test 12000 images (label: automobile)\n",
      "task #2 with train 48000 and test 12000 images (label: bird)\n",
      "task #3 with train 48000 and test 12000 images (label: cat)\n",
      "task #4 with train 48000 and test 12000 images (label: deer)\n",
      "task #5 with train 48000 and test 12000 images (label: dog)\n",
      "task #6 with train 48000 and test 12000 images (label: frog)\n",
      "task #7 with train 48000 and test 12000 images (label: horse)\n",
      "task #8 with train 48000 and test 12000 images (label: ship)\n",
      "task #9 with train 48000 and test 12000 images (label: truck)\n"
     ]
    }
   ],
   "source": [
    "transform = transforms.Compose(\n",
    "    [transforms.ToTensor(),\n",
    "     transforms.Normalize((0.4914, 0.4822, 0.4465), (0.2023, 0.1994, 0.2010))]\n",
    ")\n",
    "\n",
    "dataset = CIFAR.Cifar10('../data/cifar10', SingleTargetClassificationTask(), download=True,\n",
    "                        force_download=False, train_split=0.8, transform=transform, target_transform=None)\n",
    "dataset.load_dataset()\n",
    "\n",
    "dataset_noewt = CIFAR.Cifar10('../data/cifar10', SingleTargetClassificationTask(), download=True,\n",
    "                        force_download=False, train_split=0.8, transform=transform, target_transform=None)\n",
    "\n",
    "dataset_noewt.load_dataset()"
   ]
  },
  {
   "cell_type": "code",
   "execution_count": null,
   "metadata": {},
   "outputs": [
    {
     "name": "stdout",
     "output_type": "stream",
     "text": [
      "Numero di parametri rete classica:  171732\n"
     ]
    }
   ],
   "source": [
    "net_ewt = NoKafnet.CNN(dataset.tasks_number)\n",
    "net_no_ewt = NoKafnet.CNN(dataset.tasks_number)\n",
    "\n",
    "print('Numero di parametri rete classica: ', sum([torch.numel(p) for p in net_ewt.parameters()]))\n",
    "#print('Numero di parametri KAFNET: ', sum([torch.numel(p) for p in kafnet.parameters()]))"
   ]
  },
  {
   "cell_type": "code",
   "execution_count": null,
   "metadata": {},
   "outputs": [],
   "source": [
    "trainer_ewt = Trainer(net_ewt, dataset, config)\n",
    "trainer_no_ewt = Trainer(net_no_ewt, dataset_noewt, confing_no_ewt)"
   ]
  },
  {
   "cell_type": "code",
   "execution_count": null,
   "metadata": {
    "scrolled": true
   },
   "outputs": [
    {
     "name": "stderr",
     "output_type": "stream",
     "text": [
      "Training task 0, epoch 1: 100%|██████████| 750/750 [00:18<00:00, 39.57it/s, loss=0.626, batch#=750]\n",
      "Testing task 0: 188it [00:02, 70.54it/s, batch#=188]                         \n",
      "Training task 0, epoch 2:  98%|█████████▊| 734/750 [00:16<00:00, 43.97it/s, loss=0.59, batch#=734] "
     ]
    }
   ],
   "source": [
    "results_ewt = trainer_ewt.all_tasks()"
   ]
  },
  {
   "cell_type": "code",
   "execution_count": null,
   "metadata": {
    "scrolled": true
   },
   "outputs": [],
   "source": [
    "results_no_ewt = trainer_no_ewt.all_tasks()"
   ]
  },
  {
   "cell_type": "code",
   "execution_count": null,
   "metadata": {},
   "outputs": [],
   "source": [
    "n_task = len(results_no_ewt)\n",
    "tot_epochs = max([len(i['metrics']) for _, i in results_no_ewt.items()])\n",
    "\n",
    "fig = plt.figure(figsize=(12, 24))\n",
    "ax = None\n",
    "\n",
    "#ax = fig.add_subplot(1, 1, 1)\n",
    "\n",
    "for i, task in enumerate(results_no_ewt.keys()):\n",
    "    \n",
    "    ewt = results_ewt[task]\n",
    "    no_ewt = results_no_ewt[task]\n",
    "\n",
    "    x = range(tot_epochs-len(ewt['metrics']) , tot_epochs)\n",
    "    \n",
    "    m_ewt = defaultdict(list)\n",
    "    m_no_ewt = defaultdict(list)\n",
    "    \n",
    "    for item in ewt['metrics']:\n",
    "        for k, v in item.items():\n",
    "            m_ewt[k].append(v)\n",
    "\n",
    "    for item in no_ewt['metrics']:\n",
    "        for k, v in item.items():\n",
    "            m_no_ewt[k].append(v)\n",
    "            \n",
    "    ax = fig.add_subplot(n_task, 1, i+1, sharex=ax) \n",
    " \n",
    "    acc = m['accuracy']\n",
    "    \n",
    "    ax.plot(x, m_ewt['accuracy'], label='ewt')\n",
    "    ax.plot(x, m_no_ewt['accuracy'], label='no ewt')\n",
    "    ax.set_xticks(range(tot_epochs),minor=False)\n",
    "    ax.set_title(\"Task {}\".format(task))\n",
    "    ax.legend(loc=\"lower left\")\n",
    "    \n",
    "fig.subplots_adjust(hspace=0)"
   ]
  }
 ],
 "metadata": {
  "kernelspec": {
   "display_name": "Python 3",
   "language": "python",
   "name": "python3"
  },
  "language_info": {
   "codemirror_mode": {
    "name": "ipython",
    "version": 3
   },
   "file_extension": ".py",
   "mimetype": "text/x-python",
   "name": "python",
   "nbconvert_exporter": "python",
   "pygments_lexer": "ipython3",
   "version": "3.6.7"
  }
 },
 "nbformat": 4,
 "nbformat_minor": 2
}
